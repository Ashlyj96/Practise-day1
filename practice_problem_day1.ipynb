{
  "nbformat": 4,
  "nbformat_minor": 0,
  "metadata": {
    "colab": {
      "provenance": []
    },
    "kernelspec": {
      "name": "python3",
      "display_name": "Python 3"
    },
    "language_info": {
      "name": "python"
    }
  },
  "cells": [
    {
      "cell_type": "markdown",
      "source": [
        "**Question.1**"
      ],
      "metadata": {
        "id": "G-QZ6e3OIuNW"
      }
    },
    {
      "cell_type": "code",
      "execution_count": null,
      "metadata": {
        "colab": {
          "base_uri": "https://localhost:8080/"
        },
        "id": "LhJNG3R7eAuW",
        "outputId": "3b11b5e7-eba5-426c-eaf2-986c4c9f27fb"
      },
      "outputs": [
        {
          "output_type": "stream",
          "name": "stdout",
          "text": [
            "Hello\n"
          ]
        }
      ],
      "source": [
        "str=\"Hello, World!\"\n",
        "print(str[0:5])"
      ]
    },
    {
      "cell_type": "markdown",
      "source": [
        "**Question.2**"
      ],
      "metadata": {
        "id": "qXM3WqWFI7ie"
      }
    },
    {
      "cell_type": "code",
      "source": [
        "string=\"Python is fun\"\n",
        "print(string[7:9])"
      ],
      "metadata": {
        "colab": {
          "base_uri": "https://localhost:8080/"
        },
        "id": "0JYbnDUTeic6",
        "outputId": "2ce70176-d39c-4b5f-d8b4-e067300f4013"
      },
      "execution_count": null,
      "outputs": [
        {
          "output_type": "stream",
          "name": "stdout",
          "text": [
            "is\n"
          ]
        }
      ]
    },
    {
      "cell_type": "markdown",
      "source": [
        "**Question.3**"
      ],
      "metadata": {
        "id": "hCxTu52wJDRj"
      }
    },
    {
      "cell_type": "code",
      "source": [
        "str=\"Programming\"\n",
        "print(str[3:7])"
      ],
      "metadata": {
        "colab": {
          "base_uri": "https://localhost:8080/"
        },
        "id": "3KHqRtCBexbn",
        "outputId": "fe8c3e08-5b41-49c1-f0e2-9d3a673f9600"
      },
      "execution_count": null,
      "outputs": [
        {
          "output_type": "stream",
          "name": "stdout",
          "text": [
            "gram\n"
          ]
        }
      ]
    },
    {
      "cell_type": "markdown",
      "source": [
        "**Question.4**"
      ],
      "metadata": {
        "id": "QbSXdZBGNga1"
      }
    },
    {
      "cell_type": "code",
      "source": [
        "s=\"abcdefgh\"\n",
        "print(s[1::2])"
      ],
      "metadata": {
        "colab": {
          "base_uri": "https://localhost:8080/"
        },
        "id": "NZ458K-ge-u8",
        "outputId": "4133403a-cd47-4a97-a093-2e0edfbaf465"
      },
      "execution_count": null,
      "outputs": [
        {
          "output_type": "stream",
          "name": "stdout",
          "text": [
            "bdfh\n"
          ]
        }
      ]
    },
    {
      "cell_type": "markdown",
      "source": [
        "**Question.5**"
      ],
      "metadata": {
        "id": "utFzm4CONx-K"
      }
    },
    {
      "cell_type": "code",
      "source": [
        "string=\"abcdefg\"\n",
        "print(string[-3:])"
      ],
      "metadata": {
        "colab": {
          "base_uri": "https://localhost:8080/"
        },
        "id": "muFRp0HJfNd7",
        "outputId": "35050f3e-f2dd-41ce-eafc-f4be8d05c366"
      },
      "execution_count": null,
      "outputs": [
        {
          "output_type": "stream",
          "name": "stdout",
          "text": [
            "efg\n"
          ]
        }
      ]
    },
    {
      "cell_type": "markdown",
      "source": [
        "**Question.6**"
      ],
      "metadata": {
        "id": "KaWxu5I2N7Ri"
      }
    },
    {
      "cell_type": "code",
      "source": [
        "s=\"Data Science\"\n",
        "print(s[-3:])"
      ],
      "metadata": {
        "colab": {
          "base_uri": "https://localhost:8080/"
        },
        "id": "hJAZ4gMvfeiu",
        "outputId": "bb240329-3fd5-4192-c1ea-ed63b0fb6f03"
      },
      "execution_count": null,
      "outputs": [
        {
          "output_type": "stream",
          "name": "stdout",
          "text": [
            "nce\n"
          ]
        }
      ]
    },
    {
      "cell_type": "markdown",
      "source": [
        "**Question.7**"
      ],
      "metadata": {
        "id": "WzEPZjW4OBPj"
      }
    },
    {
      "cell_type": "code",
      "source": [
        "s=\"abcdefghij\"\n",
        "print(s[1::2])"
      ],
      "metadata": {
        "colab": {
          "base_uri": "https://localhost:8080/"
        },
        "id": "XLR2gFL3fuRS",
        "outputId": "8e18eede-76e9-44f1-93a3-e691ac7e4e1c"
      },
      "execution_count": null,
      "outputs": [
        {
          "output_type": "stream",
          "name": "stdout",
          "text": [
            "bdfhj\n"
          ]
        }
      ]
    },
    {
      "cell_type": "markdown",
      "source": [
        "**Question.8**"
      ],
      "metadata": {
        "id": "5md2RE2yOIRw"
      }
    },
    {
      "cell_type": "code",
      "source": [
        "s=\"1234567890\"\n",
        "print(s[0::2])"
      ],
      "metadata": {
        "colab": {
          "base_uri": "https://localhost:8080/"
        },
        "id": "b4B80Nq0f8Lx",
        "outputId": "2a93b8a4-94d1-4eba-aad8-7df88a196796"
      },
      "execution_count": null,
      "outputs": [
        {
          "output_type": "stream",
          "name": "stdout",
          "text": [
            "13579\n"
          ]
        }
      ]
    },
    {
      "cell_type": "markdown",
      "source": [
        "**Question.9**"
      ],
      "metadata": {
        "id": "UEPnZXWQOOoB"
      }
    },
    {
      "cell_type": "code",
      "source": [
        "s=\"Hello\"\n",
        "print(s[::-1])"
      ],
      "metadata": {
        "colab": {
          "base_uri": "https://localhost:8080/"
        },
        "id": "vy3_eC-TgK5J",
        "outputId": "ed04be1a-35a9-40fb-ffcf-035c1eb55430"
      },
      "execution_count": null,
      "outputs": [
        {
          "output_type": "stream",
          "name": "stdout",
          "text": [
            "olleH\n"
          ]
        }
      ]
    },
    {
      "cell_type": "markdown",
      "source": [
        "**Question.10**"
      ],
      "metadata": {
        "id": "MAl6hZfgOT-S"
      }
    },
    {
      "cell_type": "code",
      "source": [
        "string=\"abcdefghijk\"\n",
        "print(string[0::2])"
      ],
      "metadata": {
        "colab": {
          "base_uri": "https://localhost:8080/"
        },
        "id": "T_ikty96gW5X",
        "outputId": "5225a3d8-8541-4c2c-f604-bed09e9e160a"
      },
      "execution_count": null,
      "outputs": [
        {
          "output_type": "stream",
          "name": "stdout",
          "text": [
            "acegik\n"
          ]
        }
      ]
    }
  ]
}